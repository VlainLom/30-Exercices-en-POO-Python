{
 "cells": [
  {
   "cell_type": "code",
   "execution_count": 19,
   "id": "d6718b5a-6f53-4224-934d-8b00a41a9f69",
   "metadata": {},
   "outputs": [],
   "source": [
    "class student:\n",
    "    def __init__(self,name,marks):\n",
    "        self.name = name\n",
    "        self.marks = marks\n",
    "\n",
    "    def result(self):\n",
    "        if self.marks >= 15:\n",
    "            return 'Pass'\n",
    "        else:\n",
    "            return 'Fail'"
   ]
  },
  {
   "cell_type": "code",
   "execution_count": 24,
   "id": "c0f3aa81-f35c-4f6e-af4a-716810ed8475",
   "metadata": {},
   "outputs": [],
   "source": [
    "s1 = student('Primi',15)\n",
    "s2 = student('sam',17)\n",
    "s3 = student('emie',18)\n",
    "s4 = student('fanta',11)\n",
    "s5 = student('bim',10)"
   ]
  },
  {
   "cell_type": "code",
   "execution_count": 26,
   "id": "660139d2-b7bc-4118-90d1-4806734a62c8",
   "metadata": {},
   "outputs": [],
   "source": [
    "list_stu = [s1,s2,s3,s4,s5]"
   ]
  },
  {
   "cell_type": "code",
   "execution_count": 32,
   "id": "d4984b59-084c-48cb-97be-0ff3ecfbd542",
   "metadata": {},
   "outputs": [],
   "source": [
    "pass_stu = []\n",
    "fail_stu = []\n",
    "classroom = {}\n",
    "\n",
    "for i in list_stu:\n",
    "    if i.result() == 'Pass':\n",
    "        pass_stu.append(i.name + \" \" + str(i.marks))\n",
    "    else:\n",
    "        fail_stu.append(i.name + \" \" + str(i.marks))"
   ]
  },
  {
   "cell_type": "code",
   "execution_count": 33,
   "id": "53746a42-f0dc-454a-b351-163a2fa7f67d",
   "metadata": {},
   "outputs": [
    {
     "data": {
      "text/plain": [
       "['Primi 15', 'sam 17', 'emie 18']"
      ]
     },
     "execution_count": 33,
     "metadata": {},
     "output_type": "execute_result"
    }
   ],
   "source": [
    "pass_stu"
   ]
  },
  {
   "cell_type": "code",
   "execution_count": 34,
   "id": "9e786661-e7cc-4ab8-8365-822361054f4c",
   "metadata": {},
   "outputs": [
    {
     "data": {
      "text/plain": [
       "['fanta 11', 'bim 10']"
      ]
     },
     "execution_count": 34,
     "metadata": {},
     "output_type": "execute_result"
    }
   ],
   "source": [
    "fail_stu"
   ]
  },
  {
   "cell_type": "code",
   "execution_count": null,
   "id": "d8fb7ad2-e948-415c-ac0d-4acce61d3175",
   "metadata": {},
   "outputs": [],
   "source": []
  }
 ],
 "metadata": {
  "kernelspec": {
   "display_name": "Python 3 (ipykernel)",
   "language": "python",
   "name": "python3"
  },
  "language_info": {
   "codemirror_mode": {
    "name": "ipython",
    "version": 3
   },
   "file_extension": ".py",
   "mimetype": "text/x-python",
   "name": "python",
   "nbconvert_exporter": "python",
   "pygments_lexer": "ipython3",
   "version": "3.9.2"
  }
 },
 "nbformat": 4,
 "nbformat_minor": 5
}
