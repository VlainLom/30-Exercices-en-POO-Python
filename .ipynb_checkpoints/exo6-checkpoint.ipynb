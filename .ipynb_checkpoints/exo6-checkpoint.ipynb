{
 "cells": [
  {
   "cell_type": "code",
   "execution_count": 18,
   "id": "228bcbe8-c1da-4276-a016-c7d09ef0227e",
   "metadata": {},
   "outputs": [],
   "source": [
    "class Personne:\n",
    "    def __init__(self, nom, age, sexe):\n",
    "        self.nom = nom\n",
    "        self.age = age\n",
    "        self.sexe = sexe\n",
    "        \n",
    "    def presenter(self):\n",
    "        genres = \"une\" if self.sexe.lower() == \"femme\" else (\"un\" if self.sexe.lower() == \"homme\" else \"un(e)\")\n",
    "        annees = \"an\" if self.age == 1 else \"ans\"\n",
    "        print(f\"Je suis {self.nom}, j'ai {self.age}{annees} et je suis {genres} {self.sexe.lower()}.\")"
   ]
  },
  {
   "cell_type": "code",
   "execution_count": 23,
   "id": "0bb44e82-9fe4-4da8-8f7b-7f77d5e9a18b",
   "metadata": {},
   "outputs": [],
   "source": [
    "c = Personne(\"Primi\",23,\"Homme\")\n",
    "c1 = Personne(\"Ceecee\",1,\"Femme\")"
   ]
  },
  {
   "cell_type": "code",
   "execution_count": 24,
   "id": "55b1b8f9-8455-4763-affd-7ed01220afe3",
   "metadata": {},
   "outputs": [
    {
     "name": "stdout",
     "output_type": "stream",
     "text": [
      "Je suis Primi, j'ai 23ans et je suis un homme.\n",
      "Je suis Ceecee, j'ai 1an et je suis une femme.\n"
     ]
    }
   ],
   "source": [
    "c.presenter()\n",
    "c1.presenter()"
   ]
  },
  {
   "cell_type": "code",
   "execution_count": null,
   "id": "c11ad52d-5521-4ce0-a85e-6a210758addf",
   "metadata": {},
   "outputs": [],
   "source": []
  }
 ],
 "metadata": {
  "kernelspec": {
   "display_name": "Python 3 (ipykernel)",
   "language": "python",
   "name": "python3"
  },
  "language_info": {
   "codemirror_mode": {
    "name": "ipython",
    "version": 3
   },
   "file_extension": ".py",
   "mimetype": "text/x-python",
   "name": "python",
   "nbconvert_exporter": "python",
   "pygments_lexer": "ipython3",
   "version": "3.9.2"
  }
 },
 "nbformat": 4,
 "nbformat_minor": 5
}
