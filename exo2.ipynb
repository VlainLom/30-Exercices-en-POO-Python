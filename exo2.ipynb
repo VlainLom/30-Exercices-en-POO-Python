{
 "cells": [
  {
   "cell_type": "code",
   "execution_count": 25,
   "id": "9851f0ce-e19a-4d68-bab7-6addc14a7eea",
   "metadata": {},
   "outputs": [],
   "source": [
    "class Livre:\n",
    "    def __init__(self,title,author_name,price):\n",
    "        self.title = title\n",
    "        self.author_name = author_name\n",
    "        self.price = price\n",
    "\n",
    "    def print_info(self):\n",
    "        print(f\"Le livre intitulé {self.title}, écrit par l'auteur {self.author_name} se vend à ${self.price}.\")"
   ]
  },
  {
   "cell_type": "code",
   "execution_count": 26,
   "id": "87962e49-bf32-484f-8a6d-0ad0dcd1f034",
   "metadata": {},
   "outputs": [],
   "source": [
    "l1= Livre(\"Harry Potter à l'école des sorciers\",\"J.K. Rowling\",15)"
   ]
  },
  {
   "cell_type": "code",
   "execution_count": 27,
   "id": "d56a19cf-8aac-43df-8bd8-73da96d0e962",
   "metadata": {},
   "outputs": [
    {
     "name": "stdout",
     "output_type": "stream",
     "text": [
      "Le livre intitulé Harry Potter à l'école des sorciers, écrit par l'auteur J.K. Rowling se vend à $15.\n"
     ]
    }
   ],
   "source": [
    "l1.print_info()"
   ]
  },
  {
   "cell_type": "code",
   "execution_count": null,
   "id": "55fd3580-0e08-4bc3-940a-4e67c2f9d112",
   "metadata": {},
   "outputs": [],
   "source": []
  }
 ],
 "metadata": {
  "kernelspec": {
   "display_name": "Python 3 (ipykernel)",
   "language": "python",
   "name": "python3"
  },
  "language_info": {
   "codemirror_mode": {
    "name": "ipython",
    "version": 3
   },
   "file_extension": ".py",
   "mimetype": "text/x-python",
   "name": "python",
   "nbconvert_exporter": "python",
   "pygments_lexer": "ipython3",
   "version": "3.9.2"
  }
 },
 "nbformat": 4,
 "nbformat_minor": 5
}
