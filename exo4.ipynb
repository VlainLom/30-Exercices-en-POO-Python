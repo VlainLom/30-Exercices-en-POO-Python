{
 "cells": [
  {
   "cell_type": "code",
   "execution_count": 67,
   "id": "228bcbe8-c1da-4276-a016-c7d09ef0227e",
   "metadata": {},
   "outputs": [],
   "source": [
    "from math import pi\n",
    "\n",
    "class Cercle:\n",
    "    def __init__(self,x,y,r):\n",
    "        self.x = x\n",
    "        self.y = y\n",
    "        self.r = r\n",
    "        \n",
    "    def surface(self):\n",
    "        A = pi * self.r**2\n",
    "        return round(A,2)\n",
    "        \n",
    "    def perimetre(self):\n",
    "        P = 2*pi * self.r\n",
    "        return round(P,2)\n",
    "        \n",
    "    def print_propriete(self):\n",
    "        print(f\"- Le cercle est de rayon {self.r}cm, et de centre O({self.x},{self.y})\")\n",
    "        print(f\"- Le périmètre du cercle est : {self.perimetre()}\")\n",
    "        print(f\"- La surface du cercle est : {self.surface()}\")\n",
    "        "
   ]
  },
  {
   "cell_type": "code",
   "execution_count": 76,
   "id": "0bb44e82-9fe4-4da8-8f7b-7f77d5e9a18b",
   "metadata": {},
   "outputs": [],
   "source": [
    "c = Cercle(6,5,5)"
   ]
  },
  {
   "cell_type": "code",
   "execution_count": 77,
   "id": "55b1b8f9-8455-4763-affd-7ed01220afe3",
   "metadata": {},
   "outputs": [
    {
     "data": {
      "text/plain": [
       "78.54"
      ]
     },
     "execution_count": 77,
     "metadata": {},
     "output_type": "execute_result"
    }
   ],
   "source": [
    "c.surface()"
   ]
  },
  {
   "cell_type": "code",
   "execution_count": 78,
   "id": "cbd2dde2-3f53-4a2e-9821-35339437fe35",
   "metadata": {},
   "outputs": [
    {
     "data": {
      "text/plain": [
       "31.42"
      ]
     },
     "execution_count": 78,
     "metadata": {},
     "output_type": "execute_result"
    }
   ],
   "source": [
    "c.perimetre()"
   ]
  },
  {
   "cell_type": "code",
   "execution_count": 80,
   "id": "29b04f09-01cf-4584-8bf5-848bdf10d898",
   "metadata": {},
   "outputs": [
    {
     "name": "stdout",
     "output_type": "stream",
     "text": [
      "- Le cercle est de rayon 5cm, et de centre O(6,5)\n",
      "- Le périmètre du cercle est : 31.42\n",
      "- La surface du cercle est : 78.54\n"
     ]
    }
   ],
   "source": [
    "c.print_propriete()"
   ]
  },
  {
   "cell_type": "code",
   "execution_count": null,
   "id": "c11ad52d-5521-4ce0-a85e-6a210758addf",
   "metadata": {},
   "outputs": [],
   "source": []
  }
 ],
 "metadata": {
  "kernelspec": {
   "display_name": "Python 3 (ipykernel)",
   "language": "python",
   "name": "python3"
  },
  "language_info": {
   "codemirror_mode": {
    "name": "ipython",
    "version": 3
   },
   "file_extension": ".py",
   "mimetype": "text/x-python",
   "name": "python",
   "nbconvert_exporter": "python",
   "pygments_lexer": "ipython3",
   "version": "3.9.2"
  }
 },
 "nbformat": 4,
 "nbformat_minor": 5
}
