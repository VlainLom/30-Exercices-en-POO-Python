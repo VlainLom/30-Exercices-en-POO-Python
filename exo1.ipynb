{
 "cells": [
  {
   "cell_type": "code",
   "execution_count": 10,
   "id": "9851f0ce-e19a-4d68-bab7-6addc14a7eea",
   "metadata": {},
   "outputs": [],
   "source": [
    "class Biscuit:\n",
    "    def __init__(self,nom,forme):\n",
    "        self.nom = nom\n",
    "        self.forme = forme\n",
    "\n",
    "    def Cuir(self):\n",
    "        print(f\"Ce {self.nom} a été cuit sous forme d'une {self.forme}. \\n\\r Bonne dégustation!\")"
   ]
  },
  {
   "cell_type": "code",
   "execution_count": 11,
   "id": "87962e49-bf32-484f-8a6d-0ad0dcd1f034",
   "metadata": {},
   "outputs": [],
   "source": [
    "biscuit1 = Biscuit(\"cookie pépite de chocolat\", \"étoile\")"
   ]
  },
  {
   "cell_type": "code",
   "execution_count": 12,
   "id": "d56a19cf-8aac-43df-8bd8-73da96d0e962",
   "metadata": {},
   "outputs": [
    {
     "data": {
      "text/plain": [
       "<__main__.Biscuit at 0x7fd8b639c790>"
      ]
     },
     "execution_count": 12,
     "metadata": {},
     "output_type": "execute_result"
    }
   ],
   "source": [
    "biscuit1"
   ]
  },
  {
   "cell_type": "code",
   "execution_count": 13,
   "id": "0639f281-0a2b-4471-94e9-3f884bd83da9",
   "metadata": {},
   "outputs": [
    {
     "name": "stdout",
     "output_type": "stream",
     "text": [
      "Ce cookie pépite de chocolat a été cuit sous forme d'une étoile. \n",
      " Bonne dégustation!\n"
     ]
    }
   ],
   "source": [
    "biscuit1.Cuir()"
   ]
  },
  {
   "cell_type": "code",
   "execution_count": null,
   "id": "55fd3580-0e08-4bc3-940a-4e67c2f9d112",
   "metadata": {},
   "outputs": [],
   "source": []
  }
 ],
 "metadata": {
  "kernelspec": {
   "display_name": "Python 3 (ipykernel)",
   "language": "python",
   "name": "python3"
  },
  "language_info": {
   "codemirror_mode": {
    "name": "ipython",
    "version": 3
   },
   "file_extension": ".py",
   "mimetype": "text/x-python",
   "name": "python",
   "nbconvert_exporter": "python",
   "pygments_lexer": "ipython3",
   "version": "3.9.2"
  }
 },
 "nbformat": 4,
 "nbformat_minor": 5
}
